{
    "cells": [
        {
            "attachments": {},
            "cell_type": "markdown",
            "metadata": {},
            "source": [
                "# Optimizing a production system"
            ]
        },
        {
            "attachments": {},
            "cell_type": "markdown",
            "metadata": {},
            "source": [
                "This tutorial will guide you through the optimization functionalities of `prodsys` to optimize the configuration of a production system. With the `prodsys.optimization` package, we can utilize meta-heuristics and mathematical optimization for this task. All algorithms can be conviently used with the `prodsys.models` API. \n",
                "\n",
                "For this example, we will use a production system which we will load from a json-file (base_configuration.json), which can be found in the examples folder of [prodsys' github page](https://github.com/sdm4fzi/prodsys/tree/main/examples/tutorials). Download it and store it in the same folder as this notebook. Load the configuration and run a simulation with the following commands:"
            ]
        },
        {
            "cell_type": "code",
            "execution_count": null,
            "metadata": {},
            "outputs": [],
            "source": [
                "import prodsys\n",
                "from prodsys.simulation import sim\n",
                "sim.VERBOSE = 0\n",
                "\n",
                "production_system = prodsys.adapters.ProductionSystemData()\t\n",
                "production_system.read_data('example_data/base_configuration.json')\n",
                "\n",
                "prodsys.adapters.add_default_queues_to_adapter(production_system)\n",
                "\n",
                "runner = prodsys.runner.Runner(adapter=production_system)\n",
                "runner.initialize_simulation()\n",
                "runner.run(2880)\n",
                "runner.print_results()"
            ]
        },
        {
            "attachments": {},
            "cell_type": "markdown",
            "metadata": {},
            "source": [
                "As already concluded in the seccond tutorial, production system configurations can be suboptimal for a certain load of products. In this example, we also see that resoures M2, M3, M4 are very heavily utilized, whereas resource M1 has only a productivy of 34.4%. In order to satify the product needs of our customers and to balance the load on the resources more evenly, we want to find a more suitable configuration with the `prodsys.optimization` package. However, for starting optimization, we also need to provide an optimization scenario, that models constraints, options, information and the objectives. Let's start by creating the constraints of the scenario with the `prodsys.models` API:"
            ]
        },
        {
            "cell_type": "code",
            "execution_count": null,
            "metadata": {},
            "outputs": [],
            "source": [
                "from prodsys.models import scenario_data\n",
                "\n",
                "constraints = scenario_data.ScenarioConstrainsData(\n",
                "    max_reconfiguration_cost=100000,\n",
                "    max_num_machines=8,\n",
                "    max_num_processes_per_machine=3,\n",
                "    max_num_transport_resources=2\n",
                ")"
            ]
        },
        {
            "attachments": {},
            "cell_type": "markdown",
            "metadata": {},
            "source": [
                "As you can see, the constraints consist of the maximum cost for reconfigruation and the maximumm number of machines, processes per machine and transport resources. Next, we define the options of our scenario for optimization:"
            ]
        },
        {
            "cell_type": "code",
            "execution_count": null,
            "metadata": {},
            "outputs": [],
            "source": [
                "positions = [[x*4, y*4] for x in range(4) for y in range(10)]\n",
                "options = scenario_data.ScenarioOptionsData(\n",
                "    transformations=[scenario_data.ReconfigurationEnum.PRODUCTION_CAPACITY],\n",
                "    machine_controllers=[\"FIFO\", \"SPT\"],\n",
                "    transport_controllers=[\"FIFO\", \"SPT_transport\"],\n",
                "    routing_heuristics=[\"shortest_queue\"],\n",
                "    positions=positions\n",
                ")"
            ]
        },
        {
            "attachments": {},
            "cell_type": "markdown",
            "metadata": {},
            "source": [
                "We specify in the scenario options the transformations that can be performed by the optmizer, which control policies and routing heuristics are available and what kind of positions are available to place resources. By choosing the transformation `PRODUCTION_CAPACITY`, the optimizer can add, remove or move production resources from the system or processes from single production resources.\n",
                "\n",
                "At last, we need to specify our info for optimization:"
            ]
        },
        {
            "cell_type": "code",
            "execution_count": null,
            "metadata": {},
            "outputs": [],
            "source": [
                "info = scenario_data.ScenarioInfoData(\n",
                "    machine_cost=40000,\n",
                "    transport_resource_cost=20000,\n",
                "    process_module_cost=4000,\n",
                "    time_range=24*60\n",
                ")"
            ]
        },
        {
            "attachments": {},
            "cell_type": "markdown",
            "metadata": {},
            "source": [
                "The scenario info contains information about the cost for machines, transport resources and process modules. Additionally, we specify a time range. This value is the time used for evalutation of created configurations during simulation. Since many evaluations are performed during optimization, this parameter can significantly influence the optimmization Time. For now, we specified it to one day. Lastly we can define the objectives used for optimization:"
            ]
        },
        {
            "cell_type": "code",
            "execution_count": null,
            "metadata": {},
            "outputs": [],
            "source": [
                "from prodsys.models.performance_indicators import KPIEnum\n",
                "objectives = [scenario_data.Objective(\n",
                "    name=KPIEnum.THROUGHPUT\n",
                ")]"
            ]
        },
        {
            "attachments": {},
            "cell_type": "markdown",
            "metadata": {},
            "source": [
                "Currently, only reconfiguration cost, throughput time, WIP and throughput can be optimized. Yet, similar logic can also be used for optimizing the productivity. With all this data defined, we can now create our optimization scenario and additionally add it to our production system:"
            ]
        },
        {
            "cell_type": "code",
            "execution_count": null,
            "metadata": {},
            "outputs": [],
            "source": [
                "scenario = scenario_data.ScenarioData(\n",
                "    constraints=constraints,\n",
                "    options=options,\n",
                "    info=info,\n",
                "    objectives=objectives\n",
                ")\n",
                "production_system.scenario_data = scenario"
            ]
        },
        {
            "attachments": {},
            "cell_type": "markdown",
            "metadata": {},
            "source": [
                "Next, we define the hyper parameters for our optimization. At first, we will use evolutionary algorithm for our optimization, because it allows parallelization. The hyper parameters for optimization are strongly problem dependant and need to be adjusted accordingly. For this example, we will use the following parameters and run the optimization for 10 generations. Note, that this can take some time..."
            ]
        },
        {
            "cell_type": "code",
            "execution_count": null,
            "metadata": {},
            "outputs": [],
            "source": [
                "from prodsys.optimization import evolutionary_algorithm_optimization\n",
                "from prodsys.optimization import evolutionary_algorithm\n",
                "from prodsys.simulation import sim\n",
                "sim.VERBOSE = 0\n",
                "\n",
                "hyper_parameters = evolutionary_algorithm.EvolutionaryAlgorithmHyperparameters(\n",
                "    seed=0,\n",
                "    number_of_generations=10,\n",
                "    population_size=16,\n",
                "    mutation_rate=0.2,\n",
                "    crossover_rate=0.1,\n",
                "    number_of_processes=4\n",
                ")\n",
                "evolutionary_algorithm_optimization(\n",
                "    production_system,\n",
                "    hyper_parameters,\n",
                ")"
            ]
        },
        {
            "attachments": {},
            "cell_type": "markdown",
            "metadata": {},
            "source": [
                "All algorithms in `prodsys` can be utilized with the same interface. Also available are the following algorithms:\n",
                "- `prodsys.optimization.simulated_annealing`: simulated annealing optimization for all transformations\n",
                "- `prodsys.optimization.tabu_search`: tabu search for all transformations\n",
                "- `prodsys.optimization.math_opt`: mathematical optimization with Gurobi, allows only optimization of the production capacity\n",
                "\n",
                "We see in the output, that the algorithm is running and that new best solutions with a higher performance are found. We can analyze them now and see, if we can find a better configuration for our production system. Optimization core results of the objective for the individual solutions and the solutions themselves are saved as default in a `results` folder to make sure that interruptions in optimization won't delete all results. We can load them with the following command:"
            ]
        },
        {
            "cell_type": "code",
            "execution_count": null,
            "metadata": {},
            "outputs": [],
            "source": [
                "from prodsys.optimization import optimization_analysis\n",
                "\n",
                "df = optimization_analysis.read_optimization_results_file_to_df(\"results/optimization_results.json\", \"evolutionary\")\n",
                "df.head()"
            ]
        },
        {
            "attachments": {},
            "cell_type": "markdown",
            "metadata": {},
            "source": [
                "`prodsys` allows us to load the optimization results as a data frame and analyze them. In this case, we just want to see the best solution found by the algorithm:"
            ]
        },
        {
            "cell_type": "code",
            "execution_count": null,
            "metadata": {},
            "outputs": [],
            "source": [
                "df.sort_values(by=[\"agg_fitness\"], ascending=False).head()"
            ]
        },
        {
            "cell_type": "code",
            "execution_count": null,
            "metadata": {},
            "outputs": [],
            "source": [
                "import os \n",
                "\n",
                "# Find all files i the result folder that contain the ID of the best individual\n",
                "best_individual_ID = df.sort_values(by=[\"agg_fitness\"], ascending=False).head()[\"ID\"].values[0]\n",
                "best_individual_ID = str(best_individual_ID)\n",
                "files = os.listdir(\"results\")\n",
                "files = [file for file in files if best_individual_ID in file]\n",
                "new_production_system = prodsys.adapters.ProductionSystemData()\n",
                "new_production_system.read_data(\"results/\" + files[0])"
            ]
        },
        {
            "cell_type": "code",
            "execution_count": null,
            "metadata": {},
            "outputs": [],
            "source": [
                "runner = prodsys.runner.Runner(adapter=new_production_system)\n",
                "runner.initialize_simulation()\n",
                "runner.run(2880)\n",
                "\n",
                "runner.print_results()"
            ]
        },
        {
            "attachments": {},
            "cell_type": "markdown",
            "metadata": {},
            "source": [
                "When comparing the results from the original production system and the new one, we see that two machines were added. However, the machines are still heavily utilized. Most likely, the optimizer did just not find a good solution, because we only ran it for 10 generations and for a small population size. Increasing these will take longer, but will more likely find better solutions. "
            ]
        }
    ],
    "metadata": {
        "kernelspec": {
            "display_name": "prodsys-9RcHADzK-py3.11",
            "language": "python",
            "name": "python3"
        },
        "language_info": {
            "codemirror_mode": {
                "name": "ipython",
                "version": 3
            },
            "file_extension": ".py",
            "mimetype": "text/x-python",
            "name": "python",
            "nbconvert_exporter": "python",
            "pygments_lexer": "ipython3",
            "version": "3.11.4"
        },
        "orig_nbformat": 4
    },
    "nbformat": 4,
    "nbformat_minor": 2
}